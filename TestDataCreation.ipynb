{
  "cells": [
    {
      "cell_type": "code",
      "execution_count": null,
      "metadata": {},
      "outputs": [],
      "source": [
        "from google.colab import drive\n",
        "drive.mount('/content/drive')"
      ]
    },
    {
      "cell_type": "code",
      "execution_count": null,
      "metadata": {},
      "outputs": [],
      "source": [
        "!unzip Dataset/YOLO_TEST.zip -d /content/yolov5"
      ]
    },
    {
      "cell_type": "code",
      "execution_count": null,
      "metadata": {},
      "outputs": [],
      "source": [
        "# #@title Image Filter \n",
        "# import os\n",
        "# import shutil\n",
        "\n",
        "# # Define the source and destination directories\n",
        "# src_dir = \"/Users/rishideepreddy/Desktop/srcTest\"\n",
        "# dest_dir = \"/Users/rishideepreddy/Desktop/destTest\"\n",
        "\n",
        "# # Loop over each file in the source directory\n",
        "# for filename in os.listdir(src_dir):\n",
        "#     # Check if the file is an image\n",
        "#     if filename.endswith(\".jpg\") or filename.endswith(\".png\") or filename.endswith(\".jpeg\"):\n",
        "#         # Check if the corresponding text file exists\n",
        "#         text_filename = os.path.splitext(filename)[0] + \".txt\"\n",
        "#         if os.path.isfile(os.path.join(src_dir, text_filename)):\n",
        "#             # If the text file exists, move the image to the destination directory\n",
        "#             shutil.move(os.path.join(src_dir, filename), dest_dir)\n",
        "#             shutil.move(os.path.join(src_dir, text_filename), dest_dir)\n",
        "#             print(f\"Moved {filename} to {dest_dir}\")"
      ]
    },
    {
      "cell_type": "code",
      "execution_count": null,
      "metadata": {
        "id": "LAVWSPrEYo7R"
      },
      "outputs": [],
      "source": [
        "def listToStrConversion(my_list):\n",
        "    my_string = \":\".join(str(num) for num in my_list)\n",
        "    return my_string"
      ]
    },
    {
      "cell_type": "code",
      "execution_count": null,
      "metadata": {
        "colab": {
          "base_uri": "https://localhost:8080/"
        },
        "id": "t-n781qJYWwD",
        "outputId": "7734ede9-37cc-4cf0-c843-42708390b1df"
      },
      "outputs": [
        {
          "name": "stdout",
          "output_type": "stream",
          "text": [
            "{'0:0:0:0:0:1:0:0:0:0': ['/content/input/dog_0013.jpg', '/content/input/dog_0025.jpg', '/content/input/dog_0018.jpg', '/content/input/dog_0028.jpg', '/content/input/dog_0023.jpg', '/content/input/dog_0027.jpg', '/content/input/dog_0016.jpg', '/content/input/dog_0008.jpg', '/content/input/dog_0015.jpg', '/content/input/dog_0006.jpg', '/content/input/dog_0012.jpg', '/content/input/dog_0009.jpg', '/content/input/dog_0014.jpg', '/content/input/dog_0017.jpg', '/content/input/dog_0005.jpg', '/content/input/dog_0021.jpg', '/content/input/dog_0026.jpg', '/content/input/dog_0010.jpg', '/content/input/dog_0007.jpg', '/content/input/dog_0024.jpg', '/content/input/dog_0022.jpg'], '0:0:0:0:0:2:0:0:0:0': ['/content/input/dog_0019.jpg', '/content/input/dog_0020.jpg'], '0:0:0:0:0:1:0:1:0:0': ['/content/input/dog_0004.jpg', '/content/input/dog_0011.jpg'], '0:0:0:0:0:3:0:0:0:0': ['/content/input/dog_0029.jpg'], '1:0:0:0:0:0:0:0:0:0': ['/content/input/dog_0030.png']}\n"
          ]
        }
      ],
      "source": [
        "#@title listToImageMapping\n",
        "\n",
        "import os\n",
        "\n",
        "def listToStrConversion(my_list):\n",
        "    my_string = \":\".join(str(num) for num in my_list)\n",
        "    return my_string\n",
        "\n",
        "\n",
        "\n",
        "# Define the directory path\n",
        "dir_path = \"/content/yolov5\"\n",
        "\n",
        "my_dict = {}\n",
        "\n",
        "# Loop over each file in the directory\n",
        "for filename in os.listdir(dir_path):\n",
        "    \n",
        "    # Check if the file is an image\n",
        "    if filename.endswith(\".jpg\") or filename.endswith(\".png\") or filename.endswith(\".jpeg\"):\n",
        "        # Extract the base filename (without extension)\n",
        "        base_filename = os.path.splitext(filename)[0]\n",
        "        \n",
        "        # Construct the text file path\n",
        "        text_file_path = os.path.join(dir_path, base_filename + \".txt\")\n",
        "        my_list = [0] * 10\n",
        "        # Check if the text file exists\n",
        "        if os.path.isfile(text_file_path):\n",
        "            # Read the text file and extract the first value\n",
        "            with open(text_file_path, 'r') as f:\n",
        "                for line in f:\n",
        "                    parts = line.strip().split()\n",
        "                    # Extract the first value\n",
        "                    first_value = int(parts[0])\n",
        "                    # print(first_value)\n",
        "                    # first_value = int(f.readline().strip())\n",
        "                    # Update the list\n",
        "                    if first_value >= 0 and first_value < 10:\n",
        "                        my_list[first_value] += 1\n",
        "            \n",
        "            # Update the dictionary\n",
        "            reqStr = listToStrConversion(my_list)\n",
        "            if reqStr  in my_dict:\n",
        "                my_dict[reqStr].append(os.path.join(dir_path, filename))\n",
        "            else:\n",
        "                my_dict[reqStr] = [os.path.join(dir_path, filename)]\n",
        "\n",
        "print(my_dict)\n",
        "\n"
      ]
    },
    {
      "cell_type": "code",
      "execution_count": null,
      "metadata": {
        "colab": {
          "base_uri": "https://localhost:8080/"
        },
        "id": "DseVmUhIYvWG",
        "outputId": "c3b60c3d-0034-47e1-98e8-71daf6538e71"
      },
      "outputs": [
        {
          "name": "stdout",
          "output_type": "stream",
          "text": [
            "[['/content/input/dog_0013.jpg', '/content/input/dog_0025.jpg', '/content/input/dog_0018.jpg', '/content/input/dog_0028.jpg', '/content/input/dog_0023.jpg', '/content/input/dog_0027.jpg', '/content/input/dog_0016.jpg', '/content/input/dog_0008.jpg', '/content/input/dog_0015.jpg', '/content/input/dog_0006.jpg', '/content/input/dog_0012.jpg', '/content/input/dog_0009.jpg', '/content/input/dog_0014.jpg', '/content/input/dog_0017.jpg', '/content/input/dog_0005.jpg', '/content/input/dog_0021.jpg', '/content/input/dog_0026.jpg', '/content/input/dog_0010.jpg', '/content/input/dog_0007.jpg', '/content/input/dog_0024.jpg', '/content/input/dog_0022.jpg']]\n"
          ]
        }
      ],
      "source": [
        "def get_values_for_key(key, my_dict):\n",
        "    values = []\n",
        "    for k, v in my_dict.items():\n",
        "        if k == key:\n",
        "            values.append(v)\n",
        "    return values\n",
        "\n",
        "# Example usage:\n",
        "key = '0:0:0:0:0:1:0:0:0:0'\n",
        "values = get_values_for_key(key, my_dict)\n",
        "print(values)\n"
      ]
    },
    {
      "cell_type": "code",
      "execution_count": null,
      "metadata": {
        "id": "EOiK-HnJZQ3r"
      },
      "outputs": [],
      "source": []
    }
  ],
  "metadata": {
    "colab": {
      "provenance": []
    },
    "kernelspec": {
      "display_name": "Python 3",
      "name": "python3"
    },
    "language_info": {
      "name": "python"
    }
  },
  "nbformat": 4,
  "nbformat_minor": 0
}
