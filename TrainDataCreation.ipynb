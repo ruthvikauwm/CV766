{
  "cells": [
    {
      "cell_type": "code",
      "execution_count": null,
      "metadata": {
        "id": "_WdD4HSjF9u5"
      },
      "outputs": [],
      "source": [
        "from google.colab import drive\n",
        "drive.mount('/content/drive')"
      ]
    },
    {
      "cell_type": "code",
      "execution_count": null,
      "metadata": {
        "id": "Tivz9i7FGTlP"
      },
      "outputs": [],
      "source": [
        "!unzip Dataset/YOLO_NATURAL.zip -d /content/data"
      ]
    },
    {
      "cell_type": "code",
      "execution_count": null,
      "metadata": {
        "id": "hp4rlVIuGemC"
      },
      "outputs": [],
      "source": [
        "!unzip Dataset/YOLO_AUG.zip -d /content/data"
      ]
    },
    {
      "cell_type": "code",
      "execution_count": null,
      "metadata": {
        "id": "HgCHippfGfyh"
      },
      "outputs": [],
      "source": [
        "!unzip Dataset/YOLO_GAN.zip -d /content/data"
      ]
    },
    {
      "cell_type": "code",
      "execution_count": null,
      "metadata": {
        "id": "4NZgAGIZGgH1"
      },
      "outputs": [],
      "source": [
        "!unzip Dataset/YOLO_SD.zip -d /content/data"
      ]
    },
    {
      "cell_type": "code",
      "execution_count": null,
      "metadata": {
        "id": "CyVSplRSmZ7a"
      },
      "outputs": [],
      "source": [
        "import os\n",
        "import random\n",
        "import shutil\n",
        "\n",
        "def extract_images(natural, sd, gan, aug, folder_name):\n",
        "    # Create a new directory with the given folder name\n",
        "    if not os.path.exists(folder_name):\n",
        "        os.makedirs(folder_name)\n",
        "    \n",
        "    # Create subdirectories for images and labels within the new directory\n",
        "    new_images_train_dir = os.path.join(folder_name, 'images', 'train')\n",
        "    new_images_val_dir = os.path.join(folder_name, 'images', 'val')\n",
        "    new_labels_train_dir = os.path.join(folder_name, 'labels', 'train')\n",
        "    new_labels_val_dir = os.path.join(folder_name, 'labels', 'val')\n",
        "    \n",
        "    os.makedirs(new_images_train_dir)\n",
        "    os.makedirs(new_images_val_dir)\n",
        "    os.makedirs(new_labels_train_dir)\n",
        "    os.makedirs(new_labels_val_dir)\n",
        "    \n",
        "    # Loop through each folder and calculate the minimum number of images\n",
        "    min_images = None\n",
        "    for folder, count in [('YOLO_NATURAL', natural), \n",
        "                          ('YOLO_SD', sd), \n",
        "                          ('YOLO_GAN', gan), \n",
        "                          ('YOLO_AUG', aug)]:\n",
        "        num_images = len(os.listdir(folder + '/images/train'))\n",
        "        if min_images is None or num_images < min_images:\n",
        "            min_images = num_images\n",
        "    print(min_images)\n",
        "    if min_images is None:\n",
        "        return\n",
        "    \n",
        "    # Calculate the number of images for each type based on the minimum number of images\n",
        "    natural_count = round(min_images * natural / 100)\n",
        "    sd_count = round(min_images * sd / 100)\n",
        "    gan_count = round(min_images * gan / 100)\n",
        "    aug_count = round(min_images * aug / 100)\n",
        "    \n",
        "    # Loop through each folder and copy the required number of images\n",
        "    for folder, count in [('YOLO_NATURAL', natural_count), \n",
        "                          ('YOLO_SD', sd_count), \n",
        "                          ('YOLO_GAN', gan_count), \n",
        "                          ('YOLO_AUG', aug_count)]:\n",
        "        filenames = os.listdir(folder + '/images/train')\n",
        "        # Shuffle the filenames\n",
        "        random.shuffle(filenames)\n",
        "        # Copy the required number of images to the new folder's train subdirectory\n",
        "        train_count = round(count * 0.9)\n",
        "        for filename in filenames[:train_count]:\n",
        "            # Copy the image\n",
        "            shutil.copy2(os.path.join(folder + '/images/train', filename), new_images_train_dir)\n",
        "            # Copy the corresponding label file\n",
        "            shutil.copy2(os.path.join(folder + '/labels/train', filename[:-4] + '.txt'), new_labels_train_dir)\n",
        "        # Copy the remaining files to the new folder's validation subdirectory\n",
        "        val_count = count - train_count\n",
        "        for filename in filenames[train_count:train_count+val_count]:\n",
        "            # Copy the image\n",
        "            shutil.copy2(os.path.join(folder + '/images/train', filename), new_images_val_dir)\n",
        "            # Copy the corresponding label file\n",
        "            shutil.copy2(os.path.join(folder + '/labels/train', filename[:-4] + '.txt'), new_labels_val_dir)\n",
        "\n",
        "extract_images(100, 0, 0, 0, 'natural_only') #Natural (100)\n",
        "extract_images(50, 0, 0, 50, 'natural_aug') #Natural AUG (50,50)\n",
        "extract_images(20, 30, 50, 0, 'natural_gan_sd') #Natural GAN SD (20,50,30)\n",
        "extract_images(0, 70, 30, 0, 'gan_sd') #GAN SD (30,70)\n",
        "extract_images(25, 50, 0, 25, 'natural_sd_aug') #Natural SD AUG (25,50,25)\n",
        "extract_images(15, 40, 30, 15, 'natural_gan_sd_aug') #Natural GAN SD AUG (15,30,40,15)\n"
      ]
    },
    {
      "cell_type": "code",
      "execution_count": null,
      "metadata": {},
      "outputs": [],
      "source": [
        "# !apt install zip unzip\n",
        "# !zip -r natural_only /content/data"
      ]
    }
  ],
  "metadata": {
    "colab": {
      "provenance": []
    },
    "kernelspec": {
      "display_name": "Python 3",
      "name": "python3"
    },
    "language_info": {
      "name": "python"
    }
  },
  "nbformat": 4,
  "nbformat_minor": 0
}
